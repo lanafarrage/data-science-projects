{
 "cells": [
  {
   "cell_type": "code",
   "execution_count": 71,
   "id": "820496f7-f068-4608-b99e-66207001ebb9",
   "metadata": {},
   "outputs": [],
   "source": [
    "from sklearn.model_selection import train_test_split\n",
    "from sklearn.linear_model import LogisticRegression\n",
    "import pandas as pd\n",
    "import numpy as np\n",
    "from sklearn.preprocessing import StandardScaler\n",
    "from sklearn.metrics import accuracy_score, precision_score, recall_score, f1_score, roc_auc_score\n",
    "from sklearn.metrics import confusion_matrix, classification_report\n",
    "import seaborn as sns\n",
    "import matplotlib.pyplot as plt"
   ]
  },
  {
   "cell_type": "code",
   "execution_count": 73,
   "id": "8b7066ee-b369-4a78-9035-744329e32a69",
   "metadata": {},
   "outputs": [
    {
     "data": {
      "text/html": [
       "<div>\n",
       "<style scoped>\n",
       "    .dataframe tbody tr th:only-of-type {\n",
       "        vertical-align: middle;\n",
       "    }\n",
       "\n",
       "    .dataframe tbody tr th {\n",
       "        vertical-align: top;\n",
       "    }\n",
       "\n",
       "    .dataframe thead th {\n",
       "        text-align: right;\n",
       "    }\n",
       "</style>\n",
       "<table border=\"1\" class=\"dataframe\">\n",
       "  <thead>\n",
       "    <tr style=\"text-align: right;\">\n",
       "      <th></th>\n",
       "      <th>Age</th>\n",
       "      <th>BMI</th>\n",
       "      <th>BloodPressure</th>\n",
       "      <th>Glucose</th>\n",
       "      <th>Insulin</th>\n",
       "      <th>Outcome</th>\n",
       "    </tr>\n",
       "  </thead>\n",
       "  <tbody>\n",
       "    <tr>\n",
       "      <th>0</th>\n",
       "      <td>59</td>\n",
       "      <td>41.37</td>\n",
       "      <td>85</td>\n",
       "      <td>118</td>\n",
       "      <td>229</td>\n",
       "      <td>0</td>\n",
       "    </tr>\n",
       "    <tr>\n",
       "      <th>1</th>\n",
       "      <td>49</td>\n",
       "      <td>30.73</td>\n",
       "      <td>81</td>\n",
       "      <td>140</td>\n",
       "      <td>96</td>\n",
       "      <td>1</td>\n",
       "    </tr>\n",
       "    <tr>\n",
       "      <th>2</th>\n",
       "      <td>35</td>\n",
       "      <td>32.70</td>\n",
       "      <td>89</td>\n",
       "      <td>70</td>\n",
       "      <td>237</td>\n",
       "      <td>0</td>\n",
       "    </tr>\n",
       "    <tr>\n",
       "      <th>3</th>\n",
       "      <td>63</td>\n",
       "      <td>22.51</td>\n",
       "      <td>76</td>\n",
       "      <td>165</td>\n",
       "      <td>117</td>\n",
       "      <td>0</td>\n",
       "    </tr>\n",
       "    <tr>\n",
       "      <th>4</th>\n",
       "      <td>28</td>\n",
       "      <td>29.94</td>\n",
       "      <td>85</td>\n",
       "      <td>82</td>\n",
       "      <td>28</td>\n",
       "      <td>0</td>\n",
       "    </tr>\n",
       "  </tbody>\n",
       "</table>\n",
       "</div>"
      ],
      "text/plain": [
       "   Age    BMI  BloodPressure  Glucose  Insulin  Outcome\n",
       "0   59  41.37             85      118      229        0\n",
       "1   49  30.73             81      140       96        1\n",
       "2   35  32.70             89       70      237        0\n",
       "3   63  22.51             76      165      117        0\n",
       "4   28  29.94             85       82       28        0"
      ]
     },
     "execution_count": 73,
     "metadata": {},
     "output_type": "execute_result"
    }
   ],
   "source": [
    "\n",
    "# Set random seed for reproducibility\n",
    "np.random.seed(42)\n",
    "\n",
    "# Simulate 300 patients\n",
    "n = 300\n",
    "\n",
    "# Generate realistic values\n",
    "Age = np.random.randint(21, 65, size=n)\n",
    "BMI = np.round(np.random.normal(30, 5, size=n), 2)\n",
    "BloodPressure = np.random.randint(60, 100, size=n)\n",
    "Glucose = np.random.randint(70, 180, size=n)\n",
    "Insulin = np.random.randint(15, 276, size=n)\n",
    "\n",
    "# Target variable: Outcome (1 = diabetic, 0 = not)\n",
    "Outcome = ((Glucose > 125) & (BMI > 30)).astype(int)\n",
    "\n",
    "# Create DataFrame\n",
    "df = pd.DataFrame({\n",
    "    'Age': Age,\n",
    "    'BMI': BMI,\n",
    "    'BloodPressure': BloodPressure,\n",
    "    'Glucose': Glucose,\n",
    "    'Insulin': Insulin,\n",
    "    'Outcome': Outcome\n",
    "})\n",
    "df.head()"
   ]
  },
  {
   "cell_type": "code",
   "execution_count": 75,
   "id": "394a8e7c-9d9e-4468-a994-398aec18917b",
   "metadata": {},
   "outputs": [
    {
     "data": {
      "text/plain": [
       "(240, 5)"
      ]
     },
     "execution_count": 75,
     "metadata": {},
     "output_type": "execute_result"
    }
   ],
   "source": [
    "X = df.drop('Outcome' , axis = 1)\n",
    "Y = df['Outcome']\n",
    "X_train , X_test, Y_train , Y_test = train_test_split(\n",
    "    X,Y , test_size = 0.2 , random_state = 42\n",
    ") \n",
    "X_test.shape\n",
    "X_train.shape"
   ]
  },
  {
   "cell_type": "code",
   "execution_count": 77,
   "id": "901b3ddd-156a-4b4e-8663-68504009e178",
   "metadata": {},
   "outputs": [
    {
     "name": "stdout",
     "output_type": "stream",
     "text": [
      "Accuracy: 0.9333333333333333\n",
      "Precision: 0.875\n",
      "Recall: 0.7\n",
      "F1 Score: 0.7777777777777778\n",
      "ROC AUC Score: 0.9460000000000001\n"
     ]
    }
   ],
   "source": [
    "\n",
    "scaler = StandardScaler()\n",
    "X_trained_scale = scaler.fit_transform(X_train)\n",
    "X_test_scale = scaler.transform(X_test)\n",
    "\n",
    "model = LogisticRegression()\n",
    "model.fit ( X_trained_scale , Y_train)\n",
    "\n",
    "y_predicted = model.predict(X_test_scale)\n",
    "y_prob = model.predict_proba(X_test_scale)[:, 1] \n",
    "\n",
    "print(\"Accuracy:\", accuracy_score(Y_test, y_predicted))\n",
    "print(\"Precision:\", precision_score(Y_test, y_predicted))\n",
    "print(\"Recall:\", recall_score(Y_test, y_predicted))\n",
    "print(\"F1 Score:\", f1_score(Y_test, y_predicted))\n",
    "print(\"ROC AUC Score:\", roc_auc_score(Y_test, y_prob))"
   ]
  },
  {
   "cell_type": "code",
   "execution_count": 79,
   "id": "e7a7e9b3-1f88-47ee-8867-770a40a2fde1",
   "metadata": {},
   "outputs": [
    {
     "name": "stdout",
     "output_type": "stream",
     "text": [
      "Confusion Matrix:\n",
      " [[49  1]\n",
      " [ 3  7]]\n"
     ]
    },
    {
     "data": {
      "image/png": "[encoded data removed]",
      "text/plain": [
       "<Figure size 640x480 with 2 Axes>"
      ]
     },
     "metadata": {},
     "output_type": "display_data"
    },
    {
     "name": "stdout",
     "output_type": "stream",
     "text": [
      "\n",
      "Classification Report:\n",
      "               precision    recall  f1-score   support\n",
      "\n",
      "           0       0.94      0.98      0.96        50\n",
      "           1       0.88      0.70      0.78        10\n",
      "\n",
      "    accuracy                           0.93        60\n",
      "   macro avg       0.91      0.84      0.87        60\n",
      "weighted avg       0.93      0.93      0.93        60\n",
      "\n"
     ]
    }
   ],
   "source": [
    "\n",
    "cm = confusion_matrix(Y_test, y_predicted)\n",
    "print(\"Confusion Matrix:\\n\", cm)\n",
    "\n",
    "sns.heatmap(cm, annot=True, fmt='d', cmap='Blues')\n",
    "plt.xlabel('Predicted')\n",
    "plt.ylabel('Actual')\n",
    "plt.title('Confusion Matrix')\n",
    "plt.show()\n",
    "\n",
    "print(\"\\nClassification Report:\\n\", classification_report(Y_test, y_predicted))"
   ]
  }
 ],
 "metadata": {
  "kernelspec": {
   "display_name": "Python [conda env:base] *",
   "language": "python",
   "name": "conda-base-py"
  },
  "language_info": {
   "codemirror_mode": {
    "name": "ipython",
    "version": 3
   },
   "file_extension": ".py",
   "mimetype": "text/x-python",
   "name": "python",
   "nbconvert_exporter": "python",
   "pygments_lexer": "ipython3",
   "version": "3.12.7"
  }
 },
 "nbformat": 4,
 "nbformat_minor": 5
}
